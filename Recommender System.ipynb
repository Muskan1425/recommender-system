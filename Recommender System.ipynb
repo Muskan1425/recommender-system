{
 "cells": [
  {
   "cell_type": "code",
   "execution_count": 4,
   "id": "40fddb21",
   "metadata": {},
   "outputs": [],
   "source": [
    "import numpy as np # linear algebra\n",
    "import pandas as pd # data processing, CSV file I/O (e.g. pd.read_csv)\n",
    "import os\n",
    "from IPython.core.interactiveshell import InteractiveShell\n",
    "InteractiveShell.ast_node_interactivity = \"all\"\n",
    "import math\n",
    "import json\n",
    "import time\n",
    "import matplotlib.pyplot as plt\n",
    "import seaborn as sns\n",
    "from sklearn.metrics.pairwise import cosine_similarity\n",
    "from sklearn.model_selection import train_test_split\n",
    "from sklearn.neighbors import NearestNeighbors\n",
    "import scipy.sparse\n",
    "from scipy.sparse import csr_matrix\n",
    "from scipy.sparse.linalg import svds\n",
    "import warnings; warnings.simplefilter('ignore')\n",
    "%matplotlib inline\n"
   ]
  },
  {
   "cell_type": "code",
   "execution_count": 5,
   "id": "5757631b",
   "metadata": {},
   "outputs": [
    {
     "data": {
      "text/html": [
       "<div>\n",
       "<style scoped>\n",
       "    .dataframe tbody tr th:only-of-type {\n",
       "        vertical-align: middle;\n",
       "    }\n",
       "\n",
       "    .dataframe tbody tr th {\n",
       "        vertical-align: top;\n",
       "    }\n",
       "\n",
       "    .dataframe thead th {\n",
       "        text-align: right;\n",
       "    }\n",
       "</style>\n",
       "<table border=\"1\" class=\"dataframe\">\n",
       "  <thead>\n",
       "    <tr style=\"text-align: right;\">\n",
       "      <th></th>\n",
       "      <th>userId</th>\n",
       "      <th>productId</th>\n",
       "      <th>Rating</th>\n",
       "      <th>timestamp</th>\n",
       "    </tr>\n",
       "  </thead>\n",
       "  <tbody>\n",
       "    <tr>\n",
       "      <th>0</th>\n",
       "      <td>AKM1MP6P0OYPR</td>\n",
       "      <td>0132793040</td>\n",
       "      <td>5.0</td>\n",
       "      <td>1365811200</td>\n",
       "    </tr>\n",
       "    <tr>\n",
       "      <th>1</th>\n",
       "      <td>A2CX7LUOHB2NDG</td>\n",
       "      <td>0321732944</td>\n",
       "      <td>5.0</td>\n",
       "      <td>1341100800</td>\n",
       "    </tr>\n",
       "    <tr>\n",
       "      <th>2</th>\n",
       "      <td>A2NWSAGRHCP8N5</td>\n",
       "      <td>0439886341</td>\n",
       "      <td>1.0</td>\n",
       "      <td>1367193600</td>\n",
       "    </tr>\n",
       "    <tr>\n",
       "      <th>3</th>\n",
       "      <td>A2WNBOD3WNDNKT</td>\n",
       "      <td>0439886341</td>\n",
       "      <td>3.0</td>\n",
       "      <td>1374451200</td>\n",
       "    </tr>\n",
       "    <tr>\n",
       "      <th>4</th>\n",
       "      <td>A1GI0U4ZRJA8WN</td>\n",
       "      <td>0439886341</td>\n",
       "      <td>1.0</td>\n",
       "      <td>1334707200</td>\n",
       "    </tr>\n",
       "  </tbody>\n",
       "</table>\n",
       "</div>"
      ],
      "text/plain": [
       "           userId   productId  Rating   timestamp\n",
       "0   AKM1MP6P0OYPR  0132793040     5.0  1365811200\n",
       "1  A2CX7LUOHB2NDG  0321732944     5.0  1341100800\n",
       "2  A2NWSAGRHCP8N5  0439886341     1.0  1367193600\n",
       "3  A2WNBOD3WNDNKT  0439886341     3.0  1374451200\n",
       "4  A1GI0U4ZRJA8WN  0439886341     1.0  1334707200"
      ]
     },
     "execution_count": 5,
     "metadata": {},
     "output_type": "execute_result"
    }
   ],
   "source": [
    "\n",
    "electronics_data=pd.read_csv(\"C:/Users/sai/Downloads/ratings_Electronics (1).csv\",names=['userId', 'productId','Rating','timestamp'])\n",
    "\n",
    "electronics_data.head()"
   ]
  },
  {
   "cell_type": "code",
   "execution_count": 6,
   "id": "e0895fbf",
   "metadata": {},
   "outputs": [
    {
     "data": {
      "text/plain": [
       "(7824482, 4)"
      ]
     },
     "execution_count": 6,
     "metadata": {},
     "output_type": "execute_result"
    }
   ],
   "source": [
    "#Shape of the data\n",
    "electronics_data.shape"
   ]
  },
  {
   "cell_type": "code",
   "execution_count": 7,
   "id": "0a0e6d59",
   "metadata": {},
   "outputs": [],
   "source": [
    "#Taking subset of the dataset\n",
    "electronics_data=electronics_data.iloc[:1048576,0:]"
   ]
  },
  {
   "cell_type": "code",
   "execution_count": 8,
   "id": "b4ed1567",
   "metadata": {},
   "outputs": [
    {
     "data": {
      "text/plain": [
       "userId        object\n",
       "productId     object\n",
       "Rating       float64\n",
       "timestamp      int64\n",
       "dtype: object"
      ]
     },
     "execution_count": 8,
     "metadata": {},
     "output_type": "execute_result"
    }
   ],
   "source": [
    "#Check the datatypes\n",
    "electronics_data.dtypes"
   ]
  },
  {
   "cell_type": "code",
   "execution_count": 9,
   "id": "dc9cfd8c",
   "metadata": {},
   "outputs": [
    {
     "name": "stdout",
     "output_type": "stream",
     "text": [
      "<class 'pandas.core.frame.DataFrame'>\n",
      "RangeIndex: 1048576 entries, 0 to 1048575\n",
      "Data columns (total 4 columns):\n",
      " #   Column     Non-Null Count    Dtype  \n",
      "---  ------     --------------    -----  \n",
      " 0   userId     1048576 non-null  object \n",
      " 1   productId  1048576 non-null  object \n",
      " 2   Rating     1048576 non-null  float64\n",
      " 3   timestamp  1048576 non-null  int64  \n",
      "dtypes: float64(1), int64(1), object(2)\n",
      "memory usage: 32.0+ MB\n"
     ]
    }
   ],
   "source": [
    "electronics_data.info()"
   ]
  },
  {
   "cell_type": "code",
   "execution_count": 10,
   "id": "86c42bf4",
   "metadata": {},
   "outputs": [
    {
     "data": {
      "text/plain": [
       "count    1.048576e+06\n",
       "mean     3.973380e+00\n",
       "std      1.399329e+00\n",
       "min      1.000000e+00\n",
       "25%      3.000000e+00\n",
       "50%      5.000000e+00\n",
       "75%      5.000000e+00\n",
       "max      5.000000e+00\n",
       "Name: Rating, dtype: float64"
      ]
     },
     "execution_count": 10,
     "metadata": {},
     "output_type": "execute_result"
    }
   ],
   "source": [
    "#Five point summary \n",
    "\n",
    "electronics_data.describe()['Rating'].T"
   ]
  },
  {
   "cell_type": "code",
   "execution_count": 11,
   "id": "3e08e24b",
   "metadata": {},
   "outputs": [
    {
     "name": "stdout",
     "output_type": "stream",
     "text": [
      "Minimum rating is: 1\n",
      "Maximum rating is: 5\n"
     ]
    }
   ],
   "source": [
    "#Find the minimum and maximum ratings\n",
    "print('Minimum rating is: %d' %(electronics_data.Rating.min()))\n",
    "print('Maximum rating is: %d' %(electronics_data.Rating.max()))"
   ]
  },
  {
   "cell_type": "markdown",
   "id": "9d138368",
   "metadata": {},
   "source": [
    "Handling Missing values"
   ]
  },
  {
   "cell_type": "code",
   "execution_count": 12,
   "id": "e7e4c85c",
   "metadata": {},
   "outputs": [
    {
     "name": "stdout",
     "output_type": "stream",
     "text": [
      "Number of missing values across columns: \n",
      " userId       0\n",
      "productId    0\n",
      "Rating       0\n",
      "timestamp    0\n",
      "dtype: int64\n"
     ]
    }
   ],
   "source": [
    "#Check for missing values\n",
    "print('Number of missing values across columns: \\n',electronics_data.isnull().sum())"
   ]
  },
  {
   "cell_type": "markdown",
   "id": "18e5f53d",
   "metadata": {},
   "source": [
    "Ratings"
   ]
  },
  {
   "cell_type": "code",
   "execution_count": 13,
   "id": "01db5a91",
   "metadata": {},
   "outputs": [
    {
     "data": {
      "text/plain": [
       "<seaborn.axisgrid.FacetGrid at 0x287673d34c0>"
      ]
     },
     "execution_count": 13,
     "metadata": {},
     "output_type": "execute_result"
    },
    {
     "data": {
      "image/png": "[encoded data removed]",
      "text/plain": [
       "<Figure size 720x360 with 1 Axes>"
      ]
     },
     "metadata": {},
     "output_type": "display_data"
    }
   ],
   "source": [
    "# Check the distribution of the rating\n",
    "with sns.axes_style('white'):\n",
    "    g = sns.factorplot(\"Rating\", data=electronics_data, aspect=2.0,kind='count')\n",
    "    g.set_ylabels(\"Total number of ratings\")"
   ]
  },
  {
   "cell_type": "code",
   "execution_count": null,
   "id": "6df31cfc",
   "metadata": {},
   "outputs": [],
   "source": [
    "#Most of the people has given the rating of 5"
   ]
  },
  {
   "cell_type": "markdown",
   "id": "62fa460d",
   "metadata": {},
   "source": [
    "Unique Users and products"
   ]
  },
  {
   "cell_type": "code",
   "execution_count": 14,
   "id": "33be628c",
   "metadata": {},
   "outputs": [
    {
     "name": "stdout",
     "output_type": "stream",
     "text": [
      "Total data \n",
      "--------------------------------------------------\n",
      "\n",
      "Total no of ratings : 1048576\n",
      "Total No of Users   : 786330\n",
      "Total No of products  : 61894\n"
     ]
    }
   ],
   "source": [
    "print(\"Total data \")\n",
    "print(\"-\"*50)\n",
    "print(\"\\nTotal no of ratings :\",electronics_data.shape[0])\n",
    "print(\"Total No of Users   :\", len(np.unique(electronics_data.userId)))\n",
    "print(\"Total No of products  :\", len(np.unique(electronics_data.productId)))"
   ]
  },
  {
   "cell_type": "markdown",
   "id": "57476309",
   "metadata": {},
   "source": [
    "Dropping the TimeStamp Column"
   ]
  },
  {
   "cell_type": "code",
   "execution_count": 15,
   "id": "cf5b37c8",
   "metadata": {},
   "outputs": [],
   "source": [
    "#Dropping the Timestamp column\n",
    "\n",
    "electronics_data.drop(['timestamp'], axis=1,inplace=True)"
   ]
  },
  {
   "cell_type": "markdown",
   "id": "ad8f8f9b",
   "metadata": {},
   "source": [
    "Analyzing the rating"
   ]
  },
  {
   "cell_type": "code",
   "execution_count": 16,
   "id": "ee29567d",
   "metadata": {},
   "outputs": [
    {
     "data": {
      "text/plain": [
       "userId\n",
       "A5JLAU2ARJ0BO     412\n",
       "A231WM2Z2JL0U3    249\n",
       "A25HBO5V8S8SEA    164\n",
       "A6FIAB28IS79      146\n",
       "AT6CZDCP4TRGA     128\n",
       "Name: Rating, dtype: int64"
      ]
     },
     "execution_count": 16,
     "metadata": {},
     "output_type": "execute_result"
    }
   ],
   "source": [
    "#Analysis of rating given by the user \n",
    "\n",
    "no_of_rated_products_per_user = electronics_data.groupby(by='userId')['Rating'].count().sort_values(ascending=False)\n",
    "\n",
    "no_of_rated_products_per_user.head()"
   ]
  },
  {
   "cell_type": "code",
   "execution_count": 17,
   "id": "92413a30",
   "metadata": {},
   "outputs": [
    {
     "data": {
      "text/plain": [
       "count    786330.000000\n",
       "mean          1.333506\n",
       "std           1.385612\n",
       "min           1.000000\n",
       "25%           1.000000\n",
       "50%           1.000000\n",
       "75%           1.000000\n",
       "max         412.000000\n",
       "Name: Rating, dtype: float64"
      ]
     },
     "execution_count": 17,
     "metadata": {},
     "output_type": "execute_result"
    }
   ],
   "source": [
    "no_of_rated_products_per_user.describe()"
   ]
  },
  {
   "cell_type": "code",
   "execution_count": 18,
   "id": "87c37976",
   "metadata": {},
   "outputs": [],
   "source": [
    "quantiles = no_of_rated_products_per_user.quantile(np.arange(0,1.01,0.01), interpolation='higher')"
   ]
  },
  {
   "cell_type": "code",
   "execution_count": 19,
   "id": "69f94614",
   "metadata": {},
   "outputs": [
    {
     "data": {
      "text/plain": [
       "<Figure size 720x720 with 0 Axes>"
      ]
     },
     "execution_count": 19,
     "metadata": {},
     "output_type": "execute_result"
    },
    {
     "data": {
      "text/plain": [
       "Text(0.5, 1.0, 'Quantiles and their Values')"
      ]
     },
     "execution_count": 19,
     "metadata": {},
     "output_type": "execute_result"
    },
    {
     "data": {
      "text/plain": [
       "<AxesSubplot:title={'center':'Quantiles and their Values'}>"
      ]
     },
     "execution_count": 19,
     "metadata": {},
     "output_type": "execute_result"
    },
    {
     "data": {
      "text/plain": [
       "<matplotlib.collections.PathCollection at 0x28707cb08b0>"
      ]
     },
     "execution_count": 19,
     "metadata": {},
     "output_type": "execute_result"
    },
    {
     "data": {
      "text/plain": [
       "<matplotlib.collections.PathCollection at 0x28767720f10>"
      ]
     },
     "execution_count": 19,
     "metadata": {},
     "output_type": "execute_result"
    },
    {
     "data": {
      "text/plain": [
       "Text(0, 0.5, 'No of ratings by user')"
      ]
     },
     "execution_count": 19,
     "metadata": {},
     "output_type": "execute_result"
    },
    {
     "data": {
      "text/plain": [
       "Text(0.5, 0, 'Value at the quantile')"
      ]
     },
     "execution_count": 19,
     "metadata": {},
     "output_type": "execute_result"
    },
    {
     "data": {
      "text/plain": [
       "<matplotlib.legend.Legend at 0x28707cb1c90>"
      ]
     },
     "execution_count": 19,
     "metadata": {},
     "output_type": "execute_result"
    },
    {
     "data": {
      "image/png": "[encoded data removed]",
      "text/plain": [
       "<Figure size 720x720 with 1 Axes>"
      ]
     },
     "metadata": {
      "needs_background": "light"
     },
     "output_type": "display_data"
    }
   ],
   "source": [
    "plt.figure(figsize=(10,10))\n",
    "plt.title(\"Quantiles and their Values\")\n",
    "quantiles.plot()\n",
    "# quantiles with 0.05 difference\n",
    "plt.scatter(x=quantiles.index[::5], y=quantiles.values[::5], c='orange', label=\"quantiles with 0.05 intervals\")\n",
    "# quantiles with 0.25 difference\n",
    "plt.scatter(x=quantiles.index[::25], y=quantiles.values[::25], c='m', label = \"quantiles with 0.25 intervals\")\n",
    "plt.ylabel('No of ratings by user')\n",
    "plt.xlabel('Value at the quantile')\n",
    "plt.legend(loc='best')\n",
    "plt.show()"
   ]
  },
  {
   "cell_type": "code",
   "execution_count": 20,
   "id": "c403ba91",
   "metadata": {},
   "outputs": [
    {
     "name": "stdout",
     "output_type": "stream",
     "text": [
      "\n",
      " No of rated product more than 50 per user : 38\n",
      "\n"
     ]
    }
   ],
   "source": [
    "print('\\n No of rated product more than 50 per user : {}\\n'.format(sum(no_of_rated_products_per_user >= 50)) )"
   ]
  },
  {
   "cell_type": "markdown",
   "id": "924313cf",
   "metadata": {},
   "source": [
    "#Popularity Based Recommendation\n",
    "\n",
    "\n",
    "Popularity based recommendation system works with the trend. It basically uses the items which are in trend right now. For example, if any product which is usually bought by every new user then there are chances that it may suggest that item to the user who just signed up.\n",
    "\n",
    "The problems with popularity based recommendation system is that the personalization is not available with this method i.e. even though you know the behaviour of the user you cannot recommend items accordingly."
   ]
  },
  {
   "cell_type": "code",
   "execution_count": 21,
   "id": "efed1d18",
   "metadata": {},
   "outputs": [],
   "source": [
    "#Getting the new dataframe which contains users who has given 50 or more ratings\n",
    "\n",
    "new_df=electronics_data.groupby(\"productId\").filter(lambda x:x['Rating'].count() >=50)"
   ]
  },
  {
   "cell_type": "code",
   "execution_count": 22,
   "id": "68820cfd",
   "metadata": {},
   "outputs": [
    {
     "data": {
      "text/plain": [
       "[<matplotlib.lines.Line2D at 0x28701a092a0>]"
      ]
     },
     "execution_count": 22,
     "metadata": {},
     "output_type": "execute_result"
    },
    {
     "data": {
      "text/plain": [
       "Text(0.5, 1.0, '# RATINGS per Product')"
      ]
     },
     "execution_count": 22,
     "metadata": {},
     "output_type": "execute_result"
    },
    {
     "data": {
      "text/plain": [
       "Text(0.5, 0, 'Product')"
      ]
     },
     "execution_count": 22,
     "metadata": {},
     "output_type": "execute_result"
    },
    {
     "data": {
      "text/plain": [
       "Text(0, 0.5, 'No of ratings per product')"
      ]
     },
     "execution_count": 22,
     "metadata": {},
     "output_type": "execute_result"
    },
    {
     "data": {
      "text/plain": [
       "[Text(-500.0, 0, ''),\n",
       " Text(0.0, 0, ''),\n",
       " Text(500.0, 0, ''),\n",
       " Text(1000.0, 0, ''),\n",
       " Text(1500.0, 0, ''),\n",
       " Text(2000.0, 0, ''),\n",
       " Text(2500.0, 0, ''),\n",
       " Text(3000.0, 0, ''),\n",
       " Text(3500.0, 0, ''),\n",
       " Text(4000.0, 0, ''),\n",
       " Text(4500.0, 0, '')]"
      ]
     },
     "execution_count": 22,
     "metadata": {},
     "output_type": "execute_result"
    },
    {
     "data": {
      "image/png": "[encoded data removed]",
      "text/plain": [
       "<Figure size 576x288 with 1 Axes>"
      ]
     },
     "metadata": {
      "needs_background": "light"
     },
     "output_type": "display_data"
    }
   ],
   "source": [
    "no_of_ratings_per_product = new_df.groupby(by='productId')['Rating'].count().sort_values(ascending=False)\n",
    "\n",
    "fig = plt.figure(figsize=plt.figaspect(.5))\n",
    "ax = plt.gca()\n",
    "plt.plot(no_of_ratings_per_product.values)\n",
    "plt.title('# RATINGS per Product')\n",
    "plt.xlabel('Product')\n",
    "plt.ylabel('No of ratings per product')\n",
    "ax.set_xticklabels([])\n",
    "\n",
    "plt.show()"
   ]
  },
  {
   "cell_type": "code",
   "execution_count": 23,
   "id": "cdb35d4b",
   "metadata": {},
   "outputs": [
    {
     "data": {
      "text/plain": [
       "productId\n",
       "0972683275    4.470980\n",
       "1400501466    3.560000\n",
       "1400501520    4.243902\n",
       "1400501776    3.884892\n",
       "1400532620    3.684211\n",
       "Name: Rating, dtype: float64"
      ]
     },
     "execution_count": 23,
     "metadata": {},
     "output_type": "execute_result"
    }
   ],
   "source": [
    "#Average rating of the product \n",
    "\n",
    "new_df.groupby('productId')['Rating'].mean().head()"
   ]
  },
  {
   "cell_type": "code",
   "execution_count": 24,
   "id": "dc56c4b5",
   "metadata": {},
   "outputs": [
    {
     "data": {
      "text/plain": [
       "productId\n",
       "B0000DYV9H    4.947368\n",
       "B000053HC5    4.945783\n",
       "B00009R96C    4.885714\n",
       "B00005LE76    4.879310\n",
       "B000I1X3W8    4.869565\n",
       "Name: Rating, dtype: float64"
      ]
     },
     "execution_count": 24,
     "metadata": {},
     "output_type": "execute_result"
    }
   ],
   "source": [
    "new_df.groupby('productId')['Rating'].mean().sort_values(ascending=False).head()"
   ]
  },
  {
   "cell_type": "code",
   "execution_count": 25,
   "id": "d1cb0d31",
   "metadata": {},
   "outputs": [
    {
     "data": {
      "text/plain": [
       "productId\n",
       "B0002L5R78    9487\n",
       "B0001FTVEK    5345\n",
       "B000I68BD4    4903\n",
       "B000BQ7GW8    4275\n",
       "B00007E7JU    3523\n",
       "Name: Rating, dtype: int64"
      ]
     },
     "execution_count": 25,
     "metadata": {},
     "output_type": "execute_result"
    }
   ],
   "source": [
    "#Total no of rating for product\n",
    "\n",
    "new_df.groupby('productId')['Rating'].count().sort_values(ascending=False).head()"
   ]
  },
  {
   "cell_type": "code",
   "execution_count": 26,
   "id": "fd190db6",
   "metadata": {},
   "outputs": [],
   "source": [
    "ratings_mean_count = pd.DataFrame(new_df.groupby('productId')['Rating'].mean())"
   ]
  },
  {
   "cell_type": "code",
   "execution_count": 28,
   "id": "86c6ec85",
   "metadata": {},
   "outputs": [
    {
     "data": {
      "text/html": [
       "<div>\n",
       "<style scoped>\n",
       "    .dataframe tbody tr th:only-of-type {\n",
       "        vertical-align: middle;\n",
       "    }\n",
       "\n",
       "    .dataframe tbody tr th {\n",
       "        vertical-align: top;\n",
       "    }\n",
       "\n",
       "    .dataframe thead th {\n",
       "        text-align: right;\n",
       "    }\n",
       "</style>\n",
       "<table border=\"1\" class=\"dataframe\">\n",
       "  <thead>\n",
       "    <tr style=\"text-align: right;\">\n",
       "      <th></th>\n",
       "      <th>Rating</th>\n",
       "      <th>rating_counts</th>\n",
       "    </tr>\n",
       "    <tr>\n",
       "      <th>productId</th>\n",
       "      <th></th>\n",
       "      <th></th>\n",
       "    </tr>\n",
       "  </thead>\n",
       "  <tbody>\n",
       "    <tr>\n",
       "      <th>0972683275</th>\n",
       "      <td>4.470980</td>\n",
       "      <td>1051</td>\n",
       "    </tr>\n",
       "    <tr>\n",
       "      <th>1400501466</th>\n",
       "      <td>3.560000</td>\n",
       "      <td>250</td>\n",
       "    </tr>\n",
       "    <tr>\n",
       "      <th>1400501520</th>\n",
       "      <td>4.243902</td>\n",
       "      <td>82</td>\n",
       "    </tr>\n",
       "    <tr>\n",
       "      <th>1400501776</th>\n",
       "      <td>3.884892</td>\n",
       "      <td>139</td>\n",
       "    </tr>\n",
       "    <tr>\n",
       "      <th>1400532620</th>\n",
       "      <td>3.684211</td>\n",
       "      <td>171</td>\n",
       "    </tr>\n",
       "  </tbody>\n",
       "</table>\n",
       "</div>"
      ],
      "text/plain": [
       "              Rating  rating_counts\n",
       "productId                          \n",
       "0972683275  4.470980           1051\n",
       "1400501466  3.560000            250\n",
       "1400501520  4.243902             82\n",
       "1400501776  3.884892            139\n",
       "1400532620  3.684211            171"
      ]
     },
     "execution_count": 28,
     "metadata": {},
     "output_type": "execute_result"
    }
   ],
   "source": [
    "ratings_mean_count['rating_counts'] = pd.DataFrame(new_df.groupby('productId')['Rating'].count())\n",
    "ratings_mean_count.head()"
   ]
  },
  {
   "cell_type": "code",
   "execution_count": 29,
   "id": "6016dee1",
   "metadata": {},
   "outputs": [
    {
     "data": {
      "text/plain": [
       "9487"
      ]
     },
     "execution_count": 29,
     "metadata": {},
     "output_type": "execute_result"
    }
   ],
   "source": [
    "ratings_mean_count['rating_counts'].max()"
   ]
  },
  {
   "cell_type": "code",
   "execution_count": 30,
   "id": "08b8d679",
   "metadata": {},
   "outputs": [
    {
     "data": {
      "text/plain": [
       "<Figure size 576x432 with 0 Axes>"
      ]
     },
     "execution_count": 30,
     "metadata": {},
     "output_type": "execute_result"
    },
    {
     "data": {
      "text/plain": [
       "<AxesSubplot:>"
      ]
     },
     "execution_count": 30,
     "metadata": {},
     "output_type": "execute_result"
    },
    {
     "data": {
      "image/png": "[encoded data removed]",
      "text/plain": [
       "<Figure size 576x432 with 1 Axes>"
      ]
     },
     "metadata": {
      "needs_background": "light"
     },
     "output_type": "display_data"
    }
   ],
   "source": [
    "plt.figure(figsize=(8,6))\n",
    "plt.rcParams['patch.force_edgecolor'] = True\n",
    "ratings_mean_count['rating_counts'].hist(bins=50)"
   ]
  },
  {
   "cell_type": "code",
   "execution_count": 31,
   "id": "19fa2a8a",
   "metadata": {},
   "outputs": [
    {
     "data": {
      "text/plain": [
       "<Figure size 576x432 with 0 Axes>"
      ]
     },
     "execution_count": 31,
     "metadata": {},
     "output_type": "execute_result"
    },
    {
     "data": {
      "text/plain": [
       "<AxesSubplot:>"
      ]
     },
     "execution_count": 31,
     "metadata": {},
     "output_type": "execute_result"
    },
    {
     "data": {
      "image/png": "[encoded data removed]",
      "text/plain": [
       "<Figure size 576x432 with 1 Axes>"
      ]
     },
     "metadata": {
      "needs_background": "light"
     },
     "output_type": "display_data"
    }
   ],
   "source": [
    "plt.figure(figsize=(8,6))\n",
    "plt.rcParams['patch.force_edgecolor'] = True\n",
    "ratings_mean_count['Rating'].hist(bins=50)"
   ]
  },
  {
   "cell_type": "code",
   "execution_count": 32,
   "id": "2e96e19f",
   "metadata": {},
   "outputs": [
    {
     "data": {
      "text/plain": [
       "<Figure size 576x432 with 0 Axes>"
      ]
     },
     "execution_count": 32,
     "metadata": {},
     "output_type": "execute_result"
    },
    {
     "data": {
      "text/plain": [
       "<seaborn.axisgrid.JointGrid at 0x28767644bb0>"
      ]
     },
     "execution_count": 32,
     "metadata": {},
     "output_type": "execute_result"
    },
    {
     "data": {
      "text/plain": [
       "<Figure size 576x432 with 0 Axes>"
      ]
     },
     "metadata": {},
     "output_type": "display_data"
    },
    {
     "data": {
      "image/png": "[encoded data removed]",
      "text/plain": [
       "<Figure size 432x432 with 3 Axes>"
      ]
     },
     "metadata": {
      "needs_background": "light"
     },
     "output_type": "display_data"
    }
   ],
   "source": [
    "plt.figure(figsize=(8,6))\n",
    "plt.rcParams['patch.force_edgecolor'] = True\n",
    "sns.jointplot(x='Rating', y='rating_counts', data=ratings_mean_count, alpha=0.4)"
   ]
  },
  {
   "cell_type": "code",
   "execution_count": 33,
   "id": "fca07358",
   "metadata": {},
   "outputs": [
    {
     "data": {
      "text/plain": [
       "<AxesSubplot:xlabel='productId'>"
      ]
     },
     "execution_count": 33,
     "metadata": {},
     "output_type": "execute_result"
    },
    {
     "data": {
      "image/png": "[encoded data removed]",
      "text/plain": [
       "<Figure size 432x288 with 1 Axes>"
      ]
     },
     "metadata": {
      "needs_background": "light"
     },
     "output_type": "display_data"
    }
   ],
   "source": [
    "popular_products = pd.DataFrame(new_df.groupby('productId')['Rating'].count())\n",
    "most_popular = popular_products.sort_values('Rating', ascending=False)\n",
    "most_popular.head(30).plot(kind = \"bar\")"
   ]
  },
  {
   "cell_type": "markdown",
   "id": "1cf44855",
   "metadata": {},
   "source": [
    "#Collaberative filtering (Item-Item recommedation)\n",
    "\n",
    "\n",
    "Collaborative filtering is commonly used for recommender systems. These techniques aim to fill in the missing entries of a user-item association matrix. We are going to use collaborative filtering (CF) approach. CF is based on the idea that the best recommendations come from people who have similar tastes. In other words, it uses historical item ratings of like-minded people to predict how someone would rate an item.Collaborative filtering has two sub-categories that are generally called memory based and model-based approaches."
   ]
  },
  {
   "cell_type": "code",
   "execution_count": 36,
   "id": "2d5e02cc",
   "metadata": {},
   "outputs": [
    {
     "data": {
      "text/html": [
       "<div>\n",
       "<style scoped>\n",
       "    .dataframe tbody tr th:only-of-type {\n",
       "        vertical-align: middle;\n",
       "    }\n",
       "\n",
       "    .dataframe tbody tr th {\n",
       "        vertical-align: top;\n",
       "    }\n",
       "\n",
       "    .dataframe thead th {\n",
       "        text-align: right;\n",
       "    }\n",
       "</style>\n",
       "<table border=\"1\" class=\"dataframe\">\n",
       "  <thead>\n",
       "    <tr style=\"text-align: right;\">\n",
       "      <th>productId</th>\n",
       "      <th>0972683275</th>\n",
       "      <th>1400501466</th>\n",
       "      <th>1400501520</th>\n",
       "      <th>1400501776</th>\n",
       "      <th>1400532620</th>\n",
       "      <th>1400532655</th>\n",
       "      <th>140053271X</th>\n",
       "      <th>1400532736</th>\n",
       "      <th>1400599997</th>\n",
       "      <th>1400698987</th>\n",
       "      <th>...</th>\n",
       "      <th>B00000JFMK</th>\n",
       "      <th>B00000JHWX</th>\n",
       "      <th>B00000JI4F</th>\n",
       "      <th>B00000JII6</th>\n",
       "      <th>B00000JMUG</th>\n",
       "      <th>B00000JPPI</th>\n",
       "      <th>B00000JSGF</th>\n",
       "      <th>B00000JYLO</th>\n",
       "      <th>B00000JYWQ</th>\n",
       "      <th>B00000K135</th>\n",
       "    </tr>\n",
       "    <tr>\n",
       "      <th>userId</th>\n",
       "      <th></th>\n",
       "      <th></th>\n",
       "      <th></th>\n",
       "      <th></th>\n",
       "      <th></th>\n",
       "      <th></th>\n",
       "      <th></th>\n",
       "      <th></th>\n",
       "      <th></th>\n",
       "      <th></th>\n",
       "      <th></th>\n",
       "      <th></th>\n",
       "      <th></th>\n",
       "      <th></th>\n",
       "      <th></th>\n",
       "      <th></th>\n",
       "      <th></th>\n",
       "      <th></th>\n",
       "      <th></th>\n",
       "      <th></th>\n",
       "      <th></th>\n",
       "    </tr>\n",
       "  </thead>\n",
       "  <tbody>\n",
       "    <tr>\n",
       "      <th>A01852072Z7B68UHLI5UG</th>\n",
       "      <td>0</td>\n",
       "      <td>0</td>\n",
       "      <td>0</td>\n",
       "      <td>0</td>\n",
       "      <td>0</td>\n",
       "      <td>0</td>\n",
       "      <td>0</td>\n",
       "      <td>0</td>\n",
       "      <td>0</td>\n",
       "      <td>0</td>\n",
       "      <td>...</td>\n",
       "      <td>0</td>\n",
       "      <td>0</td>\n",
       "      <td>0</td>\n",
       "      <td>0</td>\n",
       "      <td>0</td>\n",
       "      <td>0</td>\n",
       "      <td>0</td>\n",
       "      <td>0</td>\n",
       "      <td>0</td>\n",
       "      <td>0</td>\n",
       "    </tr>\n",
       "    <tr>\n",
       "      <th>A0266076X6KPZ6CCHGVS</th>\n",
       "      <td>0</td>\n",
       "      <td>0</td>\n",
       "      <td>0</td>\n",
       "      <td>0</td>\n",
       "      <td>0</td>\n",
       "      <td>0</td>\n",
       "      <td>0</td>\n",
       "      <td>0</td>\n",
       "      <td>0</td>\n",
       "      <td>0</td>\n",
       "      <td>...</td>\n",
       "      <td>0</td>\n",
       "      <td>0</td>\n",
       "      <td>0</td>\n",
       "      <td>0</td>\n",
       "      <td>0</td>\n",
       "      <td>0</td>\n",
       "      <td>0</td>\n",
       "      <td>0</td>\n",
       "      <td>0</td>\n",
       "      <td>0</td>\n",
       "    </tr>\n",
       "    <tr>\n",
       "      <th>A0293130VTX2ZXA70JQS</th>\n",
       "      <td>5</td>\n",
       "      <td>0</td>\n",
       "      <td>0</td>\n",
       "      <td>0</td>\n",
       "      <td>0</td>\n",
       "      <td>0</td>\n",
       "      <td>0</td>\n",
       "      <td>0</td>\n",
       "      <td>0</td>\n",
       "      <td>0</td>\n",
       "      <td>...</td>\n",
       "      <td>0</td>\n",
       "      <td>0</td>\n",
       "      <td>0</td>\n",
       "      <td>0</td>\n",
       "      <td>0</td>\n",
       "      <td>0</td>\n",
       "      <td>0</td>\n",
       "      <td>0</td>\n",
       "      <td>0</td>\n",
       "      <td>0</td>\n",
       "    </tr>\n",
       "    <tr>\n",
       "      <th>A030530627MK66BD8V4LN</th>\n",
       "      <td>4</td>\n",
       "      <td>0</td>\n",
       "      <td>0</td>\n",
       "      <td>0</td>\n",
       "      <td>0</td>\n",
       "      <td>0</td>\n",
       "      <td>0</td>\n",
       "      <td>0</td>\n",
       "      <td>0</td>\n",
       "      <td>0</td>\n",
       "      <td>...</td>\n",
       "      <td>0</td>\n",
       "      <td>0</td>\n",
       "      <td>0</td>\n",
       "      <td>0</td>\n",
       "      <td>0</td>\n",
       "      <td>0</td>\n",
       "      <td>0</td>\n",
       "      <td>0</td>\n",
       "      <td>0</td>\n",
       "      <td>0</td>\n",
       "    </tr>\n",
       "    <tr>\n",
       "      <th>A0571176384K8RBNKGF8O</th>\n",
       "      <td>0</td>\n",
       "      <td>0</td>\n",
       "      <td>0</td>\n",
       "      <td>0</td>\n",
       "      <td>0</td>\n",
       "      <td>0</td>\n",
       "      <td>0</td>\n",
       "      <td>0</td>\n",
       "      <td>0</td>\n",
       "      <td>0</td>\n",
       "      <td>...</td>\n",
       "      <td>0</td>\n",
       "      <td>0</td>\n",
       "      <td>0</td>\n",
       "      <td>0</td>\n",
       "      <td>0</td>\n",
       "      <td>0</td>\n",
       "      <td>0</td>\n",
       "      <td>0</td>\n",
       "      <td>0</td>\n",
       "      <td>0</td>\n",
       "    </tr>\n",
       "  </tbody>\n",
       "</table>\n",
       "<p>5 rows × 76 columns</p>\n",
       "</div>"
      ],
      "text/plain": [
       "productId              0972683275  1400501466  1400501520  1400501776  \\\n",
       "userId                                                                  \n",
       "A01852072Z7B68UHLI5UG           0           0           0           0   \n",
       "A0266076X6KPZ6CCHGVS            0           0           0           0   \n",
       "A0293130VTX2ZXA70JQS            5           0           0           0   \n",
       "A030530627MK66BD8V4LN           4           0           0           0   \n",
       "A0571176384K8RBNKGF8O           0           0           0           0   \n",
       "\n",
       "productId              1400532620  1400532655  140053271X  1400532736  \\\n",
       "userId                                                                  \n",
       "A01852072Z7B68UHLI5UG           0           0           0           0   \n",
       "A0266076X6KPZ6CCHGVS            0           0           0           0   \n",
       "A0293130VTX2ZXA70JQS            0           0           0           0   \n",
       "A030530627MK66BD8V4LN           0           0           0           0   \n",
       "A0571176384K8RBNKGF8O           0           0           0           0   \n",
       "\n",
       "productId              1400599997  1400698987  ...  B00000JFMK  B00000JHWX  \\\n",
       "userId                                         ...                           \n",
       "A01852072Z7B68UHLI5UG           0           0  ...           0           0   \n",
       "A0266076X6KPZ6CCHGVS            0           0  ...           0           0   \n",
       "A0293130VTX2ZXA70JQS            0           0  ...           0           0   \n",
       "A030530627MK66BD8V4LN           0           0  ...           0           0   \n",
       "A0571176384K8RBNKGF8O           0           0  ...           0           0   \n",
       "\n",
       "productId              B00000JI4F  B00000JII6  B00000JMUG  B00000JPPI  \\\n",
       "userId                                                                  \n",
       "A01852072Z7B68UHLI5UG           0           0           0           0   \n",
       "A0266076X6KPZ6CCHGVS            0           0           0           0   \n",
       "A0293130VTX2ZXA70JQS            0           0           0           0   \n",
       "A030530627MK66BD8V4LN           0           0           0           0   \n",
       "A0571176384K8RBNKGF8O           0           0           0           0   \n",
       "\n",
       "productId              B00000JSGF  B00000JYLO  B00000JYWQ  B00000K135  \n",
       "userId                                                                 \n",
       "A01852072Z7B68UHLI5UG           0           0           0           0  \n",
       "A0266076X6KPZ6CCHGVS            0           0           0           0  \n",
       "A0293130VTX2ZXA70JQS            0           0           0           0  \n",
       "A030530627MK66BD8V4LN           0           0           0           0  \n",
       "A0571176384K8RBNKGF8O           0           0           0           0  \n",
       "\n",
       "[5 rows x 76 columns]"
      ]
     },
     "execution_count": 36,
     "metadata": {},
     "output_type": "execute_result"
    }
   ],
   "source": [
    "new_df1=new_df.head(10000)\n",
    "ratings_matrix = new_df1.pivot_table(values='Rating', index='userId', columns='productId', fill_value=0)\n",
    "ratings_matrix.head()"
   ]
  },
  {
   "cell_type": "markdown",
   "id": "babee2f3",
   "metadata": {},
   "source": [
    "As expected, the utility matrix obtaned above is sparce, I have filled up the unknown values wth 0."
   ]
  },
  {
   "cell_type": "code",
   "execution_count": 37,
   "id": "de2f0d60",
   "metadata": {},
   "outputs": [
    {
     "data": {
      "text/plain": [
       "(9832, 76)"
      ]
     },
     "execution_count": 37,
     "metadata": {},
     "output_type": "execute_result"
    }
   ],
   "source": [
    "ratings_matrix.shape"
   ]
  },
  {
   "cell_type": "markdown",
   "id": "3558a64b",
   "metadata": {},
   "source": [
    "Transposing the matrix"
   ]
  },
  {
   "cell_type": "code",
   "execution_count": 38,
   "id": "aed574d3",
   "metadata": {},
   "outputs": [
    {
     "data": {
      "text/html": [
       "<div>\n",
       "<style scoped>\n",
       "    .dataframe tbody tr th:only-of-type {\n",
       "        vertical-align: middle;\n",
       "    }\n",
       "\n",
       "    .dataframe tbody tr th {\n",
       "        vertical-align: top;\n",
       "    }\n",
       "\n",
       "    .dataframe thead th {\n",
       "        text-align: right;\n",
       "    }\n",
       "</style>\n",
       "<table border=\"1\" class=\"dataframe\">\n",
       "  <thead>\n",
       "    <tr style=\"text-align: right;\">\n",
       "      <th>userId</th>\n",
       "      <th>A01852072Z7B68UHLI5UG</th>\n",
       "      <th>A0266076X6KPZ6CCHGVS</th>\n",
       "      <th>A0293130VTX2ZXA70JQS</th>\n",
       "      <th>A030530627MK66BD8V4LN</th>\n",
       "      <th>A0571176384K8RBNKGF8O</th>\n",
       "      <th>A0590501PZ7HOWJKBGQ4</th>\n",
       "      <th>A0641581307AKT5MAOU0Q</th>\n",
       "      <th>A076219533YHEV2LJO988</th>\n",
       "      <th>A0821988FXKFYX53V4QG</th>\n",
       "      <th>A099626739FNCRNHIKBCG</th>\n",
       "      <th>...</th>\n",
       "      <th>AZWOPBY75SGAM</th>\n",
       "      <th>AZX0ZDVAFMN78</th>\n",
       "      <th>AZX5LAN9JEAFF</th>\n",
       "      <th>AZX7I110AF0W2</th>\n",
       "      <th>AZXKUK895VGSM</th>\n",
       "      <th>AZXP46IB63PU8</th>\n",
       "      <th>AZYTSU42BZ7TP</th>\n",
       "      <th>AZZGJ2KMWB7R</th>\n",
       "      <th>AZZMV5VT9W7Y8</th>\n",
       "      <th>AZZST8OYL5P4Q</th>\n",
       "    </tr>\n",
       "    <tr>\n",
       "      <th>productId</th>\n",
       "      <th></th>\n",
       "      <th></th>\n",
       "      <th></th>\n",
       "      <th></th>\n",
       "      <th></th>\n",
       "      <th></th>\n",
       "      <th></th>\n",
       "      <th></th>\n",
       "      <th></th>\n",
       "      <th></th>\n",
       "      <th></th>\n",
       "      <th></th>\n",
       "      <th></th>\n",
       "      <th></th>\n",
       "      <th></th>\n",
       "      <th></th>\n",
       "      <th></th>\n",
       "      <th></th>\n",
       "      <th></th>\n",
       "      <th></th>\n",
       "      <th></th>\n",
       "    </tr>\n",
       "  </thead>\n",
       "  <tbody>\n",
       "    <tr>\n",
       "      <th>0972683275</th>\n",
       "      <td>0</td>\n",
       "      <td>0</td>\n",
       "      <td>5</td>\n",
       "      <td>4</td>\n",
       "      <td>0</td>\n",
       "      <td>0</td>\n",
       "      <td>0</td>\n",
       "      <td>0</td>\n",
       "      <td>0</td>\n",
       "      <td>0</td>\n",
       "      <td>...</td>\n",
       "      <td>0</td>\n",
       "      <td>0</td>\n",
       "      <td>0</td>\n",
       "      <td>0</td>\n",
       "      <td>0</td>\n",
       "      <td>0</td>\n",
       "      <td>0</td>\n",
       "      <td>0</td>\n",
       "      <td>0</td>\n",
       "      <td>0</td>\n",
       "    </tr>\n",
       "    <tr>\n",
       "      <th>1400501466</th>\n",
       "      <td>0</td>\n",
       "      <td>0</td>\n",
       "      <td>0</td>\n",
       "      <td>0</td>\n",
       "      <td>0</td>\n",
       "      <td>0</td>\n",
       "      <td>0</td>\n",
       "      <td>0</td>\n",
       "      <td>0</td>\n",
       "      <td>0</td>\n",
       "      <td>...</td>\n",
       "      <td>0</td>\n",
       "      <td>0</td>\n",
       "      <td>0</td>\n",
       "      <td>0</td>\n",
       "      <td>0</td>\n",
       "      <td>0</td>\n",
       "      <td>0</td>\n",
       "      <td>0</td>\n",
       "      <td>0</td>\n",
       "      <td>0</td>\n",
       "    </tr>\n",
       "    <tr>\n",
       "      <th>1400501520</th>\n",
       "      <td>0</td>\n",
       "      <td>0</td>\n",
       "      <td>0</td>\n",
       "      <td>0</td>\n",
       "      <td>0</td>\n",
       "      <td>0</td>\n",
       "      <td>0</td>\n",
       "      <td>0</td>\n",
       "      <td>0</td>\n",
       "      <td>3</td>\n",
       "      <td>...</td>\n",
       "      <td>0</td>\n",
       "      <td>0</td>\n",
       "      <td>0</td>\n",
       "      <td>0</td>\n",
       "      <td>0</td>\n",
       "      <td>0</td>\n",
       "      <td>0</td>\n",
       "      <td>0</td>\n",
       "      <td>0</td>\n",
       "      <td>0</td>\n",
       "    </tr>\n",
       "    <tr>\n",
       "      <th>1400501776</th>\n",
       "      <td>0</td>\n",
       "      <td>0</td>\n",
       "      <td>0</td>\n",
       "      <td>0</td>\n",
       "      <td>0</td>\n",
       "      <td>0</td>\n",
       "      <td>0</td>\n",
       "      <td>0</td>\n",
       "      <td>0</td>\n",
       "      <td>0</td>\n",
       "      <td>...</td>\n",
       "      <td>0</td>\n",
       "      <td>0</td>\n",
       "      <td>0</td>\n",
       "      <td>0</td>\n",
       "      <td>0</td>\n",
       "      <td>0</td>\n",
       "      <td>0</td>\n",
       "      <td>0</td>\n",
       "      <td>1</td>\n",
       "      <td>0</td>\n",
       "    </tr>\n",
       "    <tr>\n",
       "      <th>1400532620</th>\n",
       "      <td>0</td>\n",
       "      <td>0</td>\n",
       "      <td>0</td>\n",
       "      <td>0</td>\n",
       "      <td>0</td>\n",
       "      <td>0</td>\n",
       "      <td>0</td>\n",
       "      <td>0</td>\n",
       "      <td>0</td>\n",
       "      <td>0</td>\n",
       "      <td>...</td>\n",
       "      <td>0</td>\n",
       "      <td>0</td>\n",
       "      <td>0</td>\n",
       "      <td>0</td>\n",
       "      <td>0</td>\n",
       "      <td>0</td>\n",
       "      <td>0</td>\n",
       "      <td>0</td>\n",
       "      <td>0</td>\n",
       "      <td>0</td>\n",
       "    </tr>\n",
       "  </tbody>\n",
       "</table>\n",
       "<p>5 rows × 9832 columns</p>\n",
       "</div>"
      ],
      "text/plain": [
       "userId      A01852072Z7B68UHLI5UG  A0266076X6KPZ6CCHGVS  A0293130VTX2ZXA70JQS  \\\n",
       "productId                                                                       \n",
       "0972683275                      0                     0                     5   \n",
       "1400501466                      0                     0                     0   \n",
       "1400501520                      0                     0                     0   \n",
       "1400501776                      0                     0                     0   \n",
       "1400532620                      0                     0                     0   \n",
       "\n",
       "userId      A030530627MK66BD8V4LN  A0571176384K8RBNKGF8O  \\\n",
       "productId                                                  \n",
       "0972683275                      4                      0   \n",
       "1400501466                      0                      0   \n",
       "1400501520                      0                      0   \n",
       "1400501776                      0                      0   \n",
       "1400532620                      0                      0   \n",
       "\n",
       "userId      A0590501PZ7HOWJKBGQ4  A0641581307AKT5MAOU0Q  \\\n",
       "productId                                                 \n",
       "0972683275                     0                      0   \n",
       "1400501466                     0                      0   \n",
       "1400501520                     0                      0   \n",
       "1400501776                     0                      0   \n",
       "1400532620                     0                      0   \n",
       "\n",
       "userId      A076219533YHEV2LJO988  A0821988FXKFYX53V4QG  \\\n",
       "productId                                                 \n",
       "0972683275                      0                     0   \n",
       "1400501466                      0                     0   \n",
       "1400501520                      0                     0   \n",
       "1400501776                      0                     0   \n",
       "1400532620                      0                     0   \n",
       "\n",
       "userId      A099626739FNCRNHIKBCG  ...  AZWOPBY75SGAM  AZX0ZDVAFMN78  \\\n",
       "productId                          ...                                 \n",
       "0972683275                      0  ...              0              0   \n",
       "1400501466                      0  ...              0              0   \n",
       "1400501520                      3  ...              0              0   \n",
       "1400501776                      0  ...              0              0   \n",
       "1400532620                      0  ...              0              0   \n",
       "\n",
       "userId      AZX5LAN9JEAFF  AZX7I110AF0W2  AZXKUK895VGSM  AZXP46IB63PU8  \\\n",
       "productId                                                                \n",
       "0972683275              0              0              0              0   \n",
       "1400501466              0              0              0              0   \n",
       "1400501520              0              0              0              0   \n",
       "1400501776              0              0              0              0   \n",
       "1400532620              0              0              0              0   \n",
       "\n",
       "userId      AZYTSU42BZ7TP  AZZGJ2KMWB7R  AZZMV5VT9W7Y8  AZZST8OYL5P4Q  \n",
       "productId                                                              \n",
       "0972683275              0             0              0              0  \n",
       "1400501466              0             0              0              0  \n",
       "1400501520              0             0              0              0  \n",
       "1400501776              0             0              1              0  \n",
       "1400532620              0             0              0              0  \n",
       "\n",
       "[5 rows x 9832 columns]"
      ]
     },
     "execution_count": 38,
     "metadata": {},
     "output_type": "execute_result"
    }
   ],
   "source": [
    "X = ratings_matrix.T\n",
    "X.head()"
   ]
  },
  {
   "cell_type": "code",
   "execution_count": 39,
   "id": "e8df7221",
   "metadata": {},
   "outputs": [
    {
     "data": {
      "text/plain": [
       "(76, 9832)"
      ]
     },
     "execution_count": 39,
     "metadata": {},
     "output_type": "execute_result"
    }
   ],
   "source": [
    "X.shape"
   ]
  },
  {
   "cell_type": "markdown",
   "id": "e7450288",
   "metadata": {},
   "source": [
    "Unique products in subset of data"
   ]
  },
  {
   "cell_type": "code",
   "execution_count": 40,
   "id": "233778df",
   "metadata": {},
   "outputs": [],
   "source": [
    "X1 = X"
   ]
  },
  {
   "cell_type": "code",
   "execution_count": 41,
   "id": "81f2b607",
   "metadata": {},
   "outputs": [
    {
     "data": {
      "text/plain": [
       "(76, 10)"
      ]
     },
     "execution_count": 41,
     "metadata": {},
     "output_type": "execute_result"
    }
   ],
   "source": [
    "#Decomposing the Matrix\n",
    "from sklearn.decomposition import TruncatedSVD\n",
    "SVD = TruncatedSVD(n_components=10)\n",
    "decomposed_matrix = SVD.fit_transform(X)\n",
    "decomposed_matrix.shape"
   ]
  },
  {
   "cell_type": "code",
   "execution_count": 42,
   "id": "a95a52b8",
   "metadata": {},
   "outputs": [
    {
     "data": {
      "text/plain": [
       "(76, 76)"
      ]
     },
     "execution_count": 42,
     "metadata": {},
     "output_type": "execute_result"
    }
   ],
   "source": [
    "#Correlation Matrix\n",
    "\n",
    "correlation_matrix = np.corrcoef(decomposed_matrix)\n",
    "correlation_matrix.shape"
   ]
  },
  {
   "cell_type": "code",
   "execution_count": 43,
   "id": "6f36794a",
   "metadata": {},
   "outputs": [
    {
     "data": {
      "text/plain": [
       "'B00000K135'"
      ]
     },
     "execution_count": 43,
     "metadata": {},
     "output_type": "execute_result"
    }
   ],
   "source": [
    "X.index[75]"
   ]
  },
  {
   "cell_type": "markdown",
   "id": "272b7fc0",
   "metadata": {},
   "source": [
    "Index # of product ID purchased by customer"
   ]
  },
  {
   "cell_type": "code",
   "execution_count": 44,
   "id": "c8cfef49",
   "metadata": {},
   "outputs": [
    {
     "data": {
      "text/plain": [
       "75"
      ]
     },
     "execution_count": 44,
     "metadata": {},
     "output_type": "execute_result"
    }
   ],
   "source": [
    "i = \"B00000K135\"\n",
    "\n",
    "product_names = list(X.index)\n",
    "product_ID = product_names.index(i)\n",
    "product_ID"
   ]
  },
  {
   "cell_type": "markdown",
   "id": "4a4eab7e",
   "metadata": {},
   "source": [
    "Correlation for all items with the item purchased by this customer based on items rated by other customers people who bought the same product"
   ]
  },
  {
   "cell_type": "code",
   "execution_count": 45,
   "id": "02e1c88b",
   "metadata": {},
   "outputs": [
    {
     "data": {
      "text/plain": [
       "(76,)"
      ]
     },
     "execution_count": 45,
     "metadata": {},
     "output_type": "execute_result"
    }
   ],
   "source": [
    "correlation_product_ID = correlation_matrix[product_ID]\n",
    "correlation_product_ID.shape"
   ]
  },
  {
   "cell_type": "markdown",
   "id": "b0c07b6d",
   "metadata": {},
   "source": [
    "Recommending top 25 highly correlated products in sequence"
   ]
  },
  {
   "cell_type": "code",
   "execution_count": 46,
   "id": "c81b48b7",
   "metadata": {},
   "outputs": [
    {
     "data": {
      "text/plain": [
       "['9573212919',\n",
       " '9625993428',\n",
       " '9983891212',\n",
       " 'B000001OM4',\n",
       " 'B00000IGBF',\n",
       " 'B00000J0D5',\n",
       " 'B00000J1EJ',\n",
       " 'B00000J1EP',\n",
       " 'B00000J1EQ',\n",
       " 'B00000J1F3',\n",
       " 'B00000J1QK',\n",
       " 'B00000J1SC',\n",
       " 'B00000J1TX',\n",
       " 'B00000J1UQ',\n",
       " 'B00000J434',\n",
       " 'B00000J4EY',\n",
       " 'B00000J4FS',\n",
       " 'B00000J4GE',\n",
       " 'B00000JBAT',\n",
       " 'B00000JCTO',\n",
       " 'B00000JFMK',\n",
       " 'B00000JYWQ']"
      ]
     },
     "execution_count": 46,
     "metadata": {},
     "output_type": "execute_result"
    }
   ],
   "source": [
    "Recommend = list(X.index[correlation_product_ID > 0.65])\n",
    "\n",
    "# Removes the item already bought by the customer\n",
    "Recommend.remove(i) \n",
    "\n",
    "Recommend[0:24]"
   ]
  },
  {
   "cell_type": "markdown",
   "id": "b0d6b4a3",
   "metadata": {},
   "source": [
    "Here are the top 10 products to be displayed by the recommendation system to the above customer based on the purchase history of other customers in the website."
   ]
  }
 ],
 "metadata": {
  "kernelspec": {
   "display_name": "Python 3 (ipykernel)",
   "language": "python",
   "name": "python3"
  },
  "language_info": {
   "codemirror_mode": {
    "name": "ipython",
    "version": 3
   },
   "file_extension": ".py",
   "mimetype": "text/x-python",
   "name": "python",
   "nbconvert_exporter": "python",
   "pygments_lexer": "ipython3",
   "version": "3.11.0"
  }
 },
 "nbformat": 4,
 "nbformat_minor": 5
}
